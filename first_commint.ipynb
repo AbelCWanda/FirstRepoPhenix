{
 "cells": [
  {
   "cell_type": "code",
   "execution_count": 2,
   "id": "b647dcef",
   "metadata": {},
   "outputs": [
    {
     "name": "stdout",
     "output_type": "stream",
     "text": [
      "My first commint\n"
     ]
    }
   ],
   "source": [
    "print(\"My first commint\")"
   ]
  },
  {
   "cell_type": "code",
   "execution_count": 3,
   "id": "053ff4fb",
   "metadata": {},
   "outputs": [
    {
     "name": "stdout",
     "output_type": "stream",
     "text": [
      "I'm learning Git and GitHub\n"
     ]
    }
   ],
   "source": [
    "print(\"I'm learning Git and GitHub\")"
   ]
  },
  {
   "cell_type": "code",
   "execution_count": 6,
   "id": "ba3e1a63",
   "metadata": {},
   "outputs": [
    {
     "name": "stdout",
     "output_type": "stream",
     "text": [
      "25\n"
     ]
    }
   ],
   "source": [
    "print(10 + 15)"
   ]
  },
  {
   "cell_type": "code",
   "execution_count": 5,
   "id": "ddc951e4",
   "metadata": {},
   "outputs": [
    {
     "name": "stdout",
     "output_type": "stream",
     "text": [
      "    ID      Nome  Idade    Cidade  Pontuação\n",
      "0    1       Ana     23    Luanda         78\n",
      "1    2     Bruno     31    Lobito         85\n",
      "2    3    Carlos     19  Benguela         90\n",
      "3    4     Diana     27    Huambo         65\n",
      "4    5   Eduardo     35   Lubango         92\n",
      "5    6  Fernanda     29    Luanda         88\n",
      "6    7   Gabriel     21     Sumbe         70\n",
      "7    8    Helena     33   Malanje         80\n",
      "8    9      Igor     26    Namibe         75\n",
      "9   10     Joana     24     Luena         83\n",
      "10  11    Kleber     30   Cabinda         95\n"
     ]
    }
   ],
   "source": [
    "import pandas as pd\n",
    "\n",
    "# Criando um dicionário com listas\n",
    "dados = {\n",
    "    \"ID\": list(range(1, 12)),  # 11 registros\n",
    "    \"Nome\": [\n",
    "        \"Ana\", \"Bruno\", \"Carlos\", \"Diana\", \"Eduardo\",\n",
    "        \"Fernanda\", \"Gabriel\", \"Helena\", \"Igor\", \"Joana\", \"Kleber\"\n",
    "    ],\n",
    "    \"Idade\": [23, 31, 19, 27, 35, 29, 21, 33, 26, 24, 30],\n",
    "    \"Cidade\": [\n",
    "        \"Luanda\", \"Lobito\", \"Benguela\", \"Huambo\", \"Lubango\",\n",
    "        \"Luanda\", \"Sumbe\", \"Malanje\", \"Namibe\", \"Luena\", \"Cabinda\"\n",
    "    ],\n",
    "    \"Pontuação\": [78, 85, 90, 65, 92, 88, 70, 80, 75, 83, 95]\n",
    "}\n",
    "\n",
    "# Criando o DataFrame\n",
    "df = pd.DataFrame(dados)\n",
    "\n",
    "# Exibindo o DataFrame\n",
    "print(df)\n"
   ]
  }
 ],
 "metadata": {
  "kernelspec": {
   "display_name": "Python 3 (ipykernel)",
   "language": "python",
   "name": "python3"
  },
  "language_info": {
   "codemirror_mode": {
    "name": "ipython",
    "version": 3
   },
   "file_extension": ".py",
   "mimetype": "text/x-python",
   "name": "python",
   "nbconvert_exporter": "python",
   "pygments_lexer": "ipython3",
   "version": "3.13.0"
  }
 },
 "nbformat": 4,
 "nbformat_minor": 5
}
