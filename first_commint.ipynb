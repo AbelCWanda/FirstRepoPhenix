{
 "cells": [
  {
   "cell_type": "code",
   "execution_count": 2,
   "id": "b647dcef",
   "metadata": {},
   "outputs": [
    {
     "name": "stdout",
     "output_type": "stream",
     "text": [
      "My first commint\n"
     ]
    }
   ],
   "source": [
    "print(\"My first commint\")"
   ]
  },
  {
   "cell_type": "code",
   "execution_count": 3,
   "id": "053ff4fb",
   "metadata": {},
   "outputs": [
    {
     "name": "stdout",
     "output_type": "stream",
     "text": [
      "I'm learning Git and GitHub\n"
     ]
    }
   ],
   "source": [
    "print(\"I'm learning Git and GitHub\")"
   ]
  },
  {
   "cell_type": "code",
   "execution_count": 7,
   "id": "ddc951e4",
   "metadata": {},
   "outputs": [
    {
     "data": {
      "text/html": [
       "<div>\n",
       "<style scoped>\n",
       "    .dataframe tbody tr th:only-of-type {\n",
       "        vertical-align: middle;\n",
       "    }\n",
       "\n",
       "    .dataframe tbody tr th {\n",
       "        vertical-align: top;\n",
       "    }\n",
       "\n",
       "    .dataframe thead th {\n",
       "        text-align: right;\n",
       "    }\n",
       "</style>\n",
       "<table border=\"1\" class=\"dataframe\">\n",
       "  <thead>\n",
       "    <tr style=\"text-align: right;\">\n",
       "      <th></th>\n",
       "      <th>ID</th>\n",
       "      <th>Nome</th>\n",
       "      <th>Idade</th>\n",
       "      <th>Cidade</th>\n",
       "      <th>Pontuação</th>\n",
       "    </tr>\n",
       "  </thead>\n",
       "  <tbody>\n",
       "    <tr>\n",
       "      <th>0</th>\n",
       "      <td>1</td>\n",
       "      <td>Ana</td>\n",
       "      <td>23</td>\n",
       "      <td>Luanda</td>\n",
       "      <td>78</td>\n",
       "    </tr>\n",
       "    <tr>\n",
       "      <th>1</th>\n",
       "      <td>2</td>\n",
       "      <td>Bruno</td>\n",
       "      <td>31</td>\n",
       "      <td>Lobito</td>\n",
       "      <td>85</td>\n",
       "    </tr>\n",
       "    <tr>\n",
       "      <th>2</th>\n",
       "      <td>3</td>\n",
       "      <td>Carlos</td>\n",
       "      <td>19</td>\n",
       "      <td>Benguela</td>\n",
       "      <td>90</td>\n",
       "    </tr>\n",
       "    <tr>\n",
       "      <th>3</th>\n",
       "      <td>4</td>\n",
       "      <td>Diana</td>\n",
       "      <td>27</td>\n",
       "      <td>Huambo</td>\n",
       "      <td>65</td>\n",
       "    </tr>\n",
       "    <tr>\n",
       "      <th>4</th>\n",
       "      <td>5</td>\n",
       "      <td>Eduardo</td>\n",
       "      <td>35</td>\n",
       "      <td>Lubango</td>\n",
       "      <td>92</td>\n",
       "    </tr>\n",
       "    <tr>\n",
       "      <th>5</th>\n",
       "      <td>6</td>\n",
       "      <td>Fernanda</td>\n",
       "      <td>29</td>\n",
       "      <td>Luanda</td>\n",
       "      <td>88</td>\n",
       "    </tr>\n",
       "    <tr>\n",
       "      <th>6</th>\n",
       "      <td>7</td>\n",
       "      <td>Gabriel</td>\n",
       "      <td>21</td>\n",
       "      <td>Sumbe</td>\n",
       "      <td>70</td>\n",
       "    </tr>\n",
       "    <tr>\n",
       "      <th>7</th>\n",
       "      <td>8</td>\n",
       "      <td>Helena</td>\n",
       "      <td>33</td>\n",
       "      <td>Malanje</td>\n",
       "      <td>80</td>\n",
       "    </tr>\n",
       "    <tr>\n",
       "      <th>8</th>\n",
       "      <td>9</td>\n",
       "      <td>Igor</td>\n",
       "      <td>26</td>\n",
       "      <td>Namibe</td>\n",
       "      <td>75</td>\n",
       "    </tr>\n",
       "    <tr>\n",
       "      <th>9</th>\n",
       "      <td>10</td>\n",
       "      <td>Joana</td>\n",
       "      <td>24</td>\n",
       "      <td>Luena</td>\n",
       "      <td>83</td>\n",
       "    </tr>\n",
       "    <tr>\n",
       "      <th>10</th>\n",
       "      <td>11</td>\n",
       "      <td>Kleber</td>\n",
       "      <td>30</td>\n",
       "      <td>Cabinda</td>\n",
       "      <td>95</td>\n",
       "    </tr>\n",
       "  </tbody>\n",
       "</table>\n",
       "</div>"
      ],
      "text/plain": [
       "    ID      Nome  Idade    Cidade  Pontuação\n",
       "0    1       Ana     23    Luanda         78\n",
       "1    2     Bruno     31    Lobito         85\n",
       "2    3    Carlos     19  Benguela         90\n",
       "3    4     Diana     27    Huambo         65\n",
       "4    5   Eduardo     35   Lubango         92\n",
       "5    6  Fernanda     29    Luanda         88\n",
       "6    7   Gabriel     21     Sumbe         70\n",
       "7    8    Helena     33   Malanje         80\n",
       "8    9      Igor     26    Namibe         75\n",
       "9   10     Joana     24     Luena         83\n",
       "10  11    Kleber     30   Cabinda         95"
      ]
     },
     "execution_count": 7,
     "metadata": {},
     "output_type": "execute_result"
    }
   ],
   "source": [
    "import pandas as pd\n",
    "\n",
    "# Criando um dicionário com listas\n",
    "dados = {\n",
    "    \"ID\": list(range(1, 12)),  # 11 registros\n",
    "    \"Nome\": [\n",
    "        \"Ana\", \"Bruno\", \"Carlos\", \"Diana\", \"Eduardo\",\n",
    "        \"Fernanda\", \"Gabriel\", \"Helena\", \"Igor\", \"Joana\", \"Kleber\"\n",
    "    ],\n",
    "    \"Idade\": [23, 31, 19, 27, 35, 29, 21, 33, 26, 24, 30],\n",
    "    \"Cidade\": [\n",
    "        \"Luanda\", \"Lobito\", \"Benguela\", \"Huambo\", \"Lubango\",\n",
    "        \"Luanda\", \"Sumbe\", \"Malanje\", \"Namibe\", \"Luena\", \"Cabinda\"\n",
    "    ],\n",
    "    \"Pontuação\": [78, 85, 90, 65, 92, 88, 70, 80, 75, 83, 95]\n",
    "}\n",
    "\n",
    "# Criando o DataFrame\n",
    "df = pd.DataFrame(dados)\n",
    "\n",
    "# Exibindo o DataFrame\n",
    "df \n"
   ]
  }
 ],
 "metadata": {
  "kernelspec": {
   "display_name": "Python 3 (ipykernel)",
   "language": "python",
   "name": "python3"
  },
  "language_info": {
   "codemirror_mode": {
    "name": "ipython",
    "version": 3
   },
   "file_extension": ".py",
   "mimetype": "text/x-python",
   "name": "python",
   "nbconvert_exporter": "python",
   "pygments_lexer": "ipython3",
   "version": "3.13.0"
  }
 },
 "nbformat": 4,
 "nbformat_minor": 5
}
