[1mdiff --git a/first_commint.ipynb b/first_commint.ipynb[m
[1mindex 738276e..06fc868 100644[m
[1m--- a/first_commint.ipynb[m
[1m+++ b/first_commint.ipynb[m
[36m@@ -17,6 +17,24 @@[m
    "source": [[m
     "print(\"My first commint\")"[m
    ][m
[32m+[m[32m  },[m
[32m+[m[32m  {[m
[32m+[m[32m   "cell_type": "code",[m
[32m+[m[32m   "execution_count": 3,[m
[32m+[m[32m   "id": "053ff4fb",[m
[32m+[m[32m   "metadata": {},[m
[32m+[m[32m   "outputs": [[m
[32m+[m[32m    {[m
[32m+[m[32m     "name": "stdout",[m
[32m+[m[32m     "output_type": "stream",[m
[32m+[m[32m     "text": [[m
[32m+[m[32m      "I'm learning Git and GitHub\n"[m
[32m+[m[32m     ][m
[32m+[m[32m    }[m
[32m+[m[32m   ],[m
[32m+[m[32m   "source": [[m
[32m+[m[32m    "print(\"I'm learning Git and GitHub\")"[m
[32m+[m[32m   ][m
   }[m
  ],[m
  "metadata": {[m
